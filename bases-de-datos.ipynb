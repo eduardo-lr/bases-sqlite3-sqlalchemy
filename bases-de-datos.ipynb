{
 "cells": [
  {
   "cell_type": "markdown",
   "metadata": {},
   "source": [
    "# Bases de datos con SQLAlchemy y SQLite"
   ]
  },
  {
   "cell_type": "code",
   "execution_count": 1,
   "metadata": {},
   "outputs": [],
   "source": [
    "import sqlite3\n",
    "from sqlalchemy import create_engine, Table, MetaData, select, or_, and_, func"
   ]
  },
  {
   "cell_type": "code",
   "execution_count": 2,
   "metadata": {},
   "outputs": [],
   "source": [
    "# Creamos una base de datos y un cursor\n",
    "conn_sqlite = sqlite3.connect('./biblioteca.db')\n",
    "cursor = conn_sqlite.cursor()"
   ]
  },
  {
   "cell_type": "code",
   "execution_count": 3,
   "metadata": {},
   "outputs": [],
   "source": [
    "# Creamos una tabla\n",
    "cursor.execute(\"\"\"CREATE TABLE escritor (\n",
    "                    'id' INTEGER NOT NULL PRIMARY KEY AUTOINCREMENT,\n",
    "                    'nombre' TEXT NOT NULL,\n",
    "                    'paterno' TEXT NOT NULL,\n",
    "                    'materno' TEXT DEFAULT \" \");\"\"\")\n",
    "conn_sqlite.commit()"
   ]
  },
  {
   "cell_type": "code",
   "execution_count": 4,
   "metadata": {},
   "outputs": [
    {
     "name": "stdout",
     "output_type": "stream",
     "text": [
      "['id', 'nombre', 'paterno', 'materno']\n"
     ]
    }
   ],
   "source": [
    "# Verificamos la creación de la tabla\n",
    "engine = create_engine('sqlite:///biblioteca.db')\n",
    "conn_sqlalchemy = engine.connect()\n",
    "metadata = MetaData()\n",
    "escritor = Table('escritor', metadata, autoload=True, autoload_with=engine)\n",
    "print(escritor.columns.keys())"
   ]
  },
  {
   "cell_type": "code",
   "execution_count": 5,
   "metadata": {
    "scrolled": true
   },
   "outputs": [],
   "source": [
    "# Introducimos algunos valores\n",
    "cursor.execute(\"\"\"INSERT INTO escritor (nombre, paterno) \n",
    "                   VALUES \n",
    "                   ('Hermann','Hesse'),\n",
    "                   ('Jostein', 'Gaarder');\"\"\")\n",
    "cursor.execute(\"\"\"INSERT INTO escritor (nombre, paterno, materno)\n",
    "                    VALUES\n",
    "                    ('Jorge', 'Volpi', 'Escalante');\"\"\")\n",
    "conn_sqlite.commit()"
   ]
  },
  {
   "cell_type": "code",
   "execution_count": 6,
   "metadata": {},
   "outputs": [
    {
     "name": "stdout",
     "output_type": "stream",
     "text": [
      "(1, 'Hermann', 'Hesse', ' ')\n",
      "(3, 'Jorge', 'Volpi', 'Escalante')\n"
     ]
    }
   ],
   "source": [
    "# Hacemos una consulta: aquellos escritores cuyo nombre sea Hermann o cuyo id sea 3\n",
    "query = select([escritor])\n",
    "query = query.where(\n",
    "                or_(escritor.columns.nombre == 'Hermann', \n",
    "                    escritor.columns.id == 3))\n",
    "results_proxy = conn_sqlalchemy.execute(query)\n",
    "results = results_proxy.fetchall()\n",
    "for result in results:\n",
    "    print(result)"
   ]
  },
  {
   "cell_type": "code",
   "execution_count": 7,
   "metadata": {},
   "outputs": [],
   "source": [
    "# Creamos otra tabla\n",
    "cursor.execute(\"\"\"CREATE TABLE libro (\n",
    "                    'id' INTEGER NOT NULL PRIMARY KEY AUTOINCREMENT,\n",
    "                    'nombre' TEXT NOT NULL,\n",
    "                    'descripcion' TEXT NOT NULL DEFAULT \" \",\n",
    "                    'autor' INTEGER NOT NULL,\n",
    "                    FOREIGN KEY(autor) REFERENCES escritor(id));\"\"\")\n",
    "conn_sqlite.commit()"
   ]
  },
  {
   "cell_type": "code",
   "execution_count": 8,
   "metadata": {},
   "outputs": [
    {
     "name": "stdout",
     "output_type": "stream",
     "text": [
      "['id', 'nombre', 'descripcion', 'autor']\n"
     ]
    }
   ],
   "source": [
    "# Verificamos la creación de la tabla\n",
    "libro = Table('libro', metadata, autoload=True, autoload_with=engine)\n",
    "print(libro.columns.keys())"
   ]
  },
  {
   "cell_type": "code",
   "execution_count": 9,
   "metadata": {},
   "outputs": [],
   "source": [
    "# Introducimos algunos valores\n",
    "cursor.execute(\"\"\"INSERT INTO libro (nombre, autor) \n",
    "                   VALUES \n",
    "                   ('Demian',1),\n",
    "                   ('Siddhartha', 1),\n",
    "                   ('El lobo estepario',1);\"\"\")\n",
    "cursor.execute(\"\"\"INSERT INTO libro (nombre, autor, descripcion)\n",
    "                    VALUES\n",
    "                    ('El Mundo de Sofia', 2, 'Novela sobre la historia de la filosofía');\"\"\")\n",
    "conn_sqlite.commit()"
   ]
  },
  {
   "cell_type": "code",
   "execution_count": 10,
   "metadata": {},
   "outputs": [
    {
     "name": "stdout",
     "output_type": "stream",
     "text": [
      "(3, 'El lobo estepario', ' ', 1)\n",
      "(4, 'El Mundo de Sofia', 'Novela sobre la historia de la filosofía', 2)\n"
     ]
    }
   ],
   "source": [
    "# Hacemos otra consulta: los libros cuyo titulo empieze con E\n",
    "query = select([libro])\n",
    "query = query.where(libro.columns.nombre.like('E%'))\n",
    "results_proxy = conn_sqlalchemy.execute(query)\n",
    "results = results_proxy.fetchall()\n",
    "for result in results:\n",
    "    print(result)"
   ]
  },
  {
   "cell_type": "code",
   "execution_count": 11,
   "metadata": {},
   "outputs": [
    {
     "name": "stdout",
     "output_type": "stream",
     "text": [
      "(1, 'Hermann', 'Hesse', ' ', 1, 'Demian', ' ', 1)\n",
      "(1, 'Hermann', 'Hesse', ' ', 2, 'Siddhartha', ' ', 1)\n",
      "(1, 'Hermann', 'Hesse', ' ', 3, 'El lobo estepario', ' ', 1)\n",
      "(2, 'Jostein', 'Gaarder', ' ', 4, 'El Mundo de Sofia', 'Novela sobre la historia de la filosofía', 2)\n"
     ]
    }
   ],
   "source": [
    "# Hacemos un inner join entre las tablas\n",
    "query = select([escritor, libro])\n",
    "query = query.select_from(escritor.join(libro, escritor.columns.id == libro.columns.autor))\n",
    "results_proxy = conn_sqlalchemy.execute(query)\n",
    "results = results_proxy.fetchall()\n",
    "for result in results:\n",
    "    print(result)"
   ]
  },
  {
   "cell_type": "code",
   "execution_count": 12,
   "metadata": {},
   "outputs": [
    {
     "data": {
      "text/plain": [
       "3"
      ]
     },
     "execution_count": 12,
     "metadata": {},
     "output_type": "execute_result"
    }
   ],
   "source": [
    "# ¿Cuantos libros tiene Hermann Hesse registrados?\n",
    "query = select([func.sum(escritor.columns.id)])\n",
    "query = query.select_from(escritor.join(libro, escritor.columns.id == libro.columns.autor))\n",
    "query = query.where(\n",
    "                and_(escritor.columns.nombre == 'Hermann', \n",
    "                     escritor.columns.paterno == 'Hesse'))\n",
    "results_proxy = conn_sqlalchemy.execute(query)\n",
    "results = results_proxy.scalar()\n",
    "results"
   ]
  }
 ],
 "metadata": {
  "kernelspec": {
   "display_name": "Python 3",
   "language": "python",
   "name": "python3"
  },
  "language_info": {
   "codemirror_mode": {
    "name": "ipython",
    "version": 3
   },
   "file_extension": ".py",
   "mimetype": "text/x-python",
   "name": "python",
   "nbconvert_exporter": "python",
   "pygments_lexer": "ipython3",
   "version": "3.6.9"
  }
 },
 "nbformat": 4,
 "nbformat_minor": 2
}
