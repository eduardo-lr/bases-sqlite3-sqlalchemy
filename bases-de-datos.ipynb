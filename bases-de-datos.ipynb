{
 "cells": [
  {
   "cell_type": "markdown",
   "metadata": {},
   "source": [
    "# Bases de datos con SQLAlchemy y SQLite"
   ]
  },
  {
   "cell_type": "code",
   "execution_count": 1,
   "metadata": {},
   "outputs": [],
   "source": [
    "import sqlite3\n",
    "from sqlalchemy import create_engine, Table, MetaData, select, or_"
   ]
  },
  {
   "cell_type": "code",
   "execution_count": 2,
   "metadata": {},
   "outputs": [],
   "source": [
    "# Creamos una base de datos y un cursor\n",
    "conn_sqlite = sqlite3.connect('./biblioteca.db')\n",
    "cursor = conn_sqlite.cursor()"
   ]
  },
  {
   "cell_type": "code",
   "execution_count": 3,
   "metadata": {},
   "outputs": [
    {
     "data": {
      "text/plain": [
       "<sqlite3.Cursor at 0x7f655a66bf80>"
      ]
     },
     "execution_count": 3,
     "metadata": {},
     "output_type": "execute_result"
    }
   ],
   "source": [
    "# Creamos una tabla\n",
    "cursor.execute(\"\"\"CREATE TABLE escritor (\n",
    "                    'id' INTEGER NOT NULL PRIMARY KEY AUTOINCREMENT,\n",
    "                    'nombre' TEXT NOT NULL,\n",
    "                    'paterno' TEXT NOT NULL,\n",
    "                    'materno' TEXT DEFAULT \" \");\"\"\")"
   ]
  },
  {
   "cell_type": "code",
   "execution_count": 4,
   "metadata": {},
   "outputs": [
    {
     "name": "stdout",
     "output_type": "stream",
     "text": [
      "['id', 'nombre', 'paterno', 'materno']\n"
     ]
    }
   ],
   "source": [
    "# Verificamos la creación de la tabla\n",
    "engine = create_engine('sqlite:///biblioteca.db')\n",
    "conn_sqlalchemy = engine.connect()\n",
    "metadata = MetaData()\n",
    "escritor = Table('escritor', metadata, autoload=True, autoload_with=engine)\n",
    "print(escritor.columns.keys())"
   ]
  },
  {
   "cell_type": "code",
   "execution_count": 5,
   "metadata": {
    "scrolled": true
   },
   "outputs": [],
   "source": [
    "# Introducimos algunos valores\n",
    "cursor.execute(\"\"\"INSERT INTO escritor (nombre, paterno) \n",
    "                   VALUES \n",
    "                   ('Hermann','Hesse'),\n",
    "                   ('Jostein', 'Gaarder');\"\"\")\n",
    "cursor.execute(\"\"\"INSERT INTO escritor (nombre, paterno, materno)\n",
    "                    VALUES\n",
    "                    ('Jorge', 'Volpi', 'Escalante');\"\"\")\n",
    "conn_sqlite.commit()"
   ]
  },
  {
   "cell_type": "code",
   "execution_count": 6,
   "metadata": {},
   "outputs": [
    {
     "name": "stdout",
     "output_type": "stream",
     "text": [
      "(1, 'Hermann', 'Hesse', ' ')\n",
      "(3, 'Jorge', 'Volpi', 'Escalante')\n"
     ]
    }
   ],
   "source": [
    "# Hacemos una consulta\n",
    "query = select([escritor])\n",
    "query = query.where(\n",
    "                or_(escritor.columns.nombre == 'Hermann', \n",
    "                    escritor.columns.id == 3))\n",
    "results_proxy = conn_sqlalchemy.execute(query)\n",
    "results = results_proxy.fetchall()\n",
    "for result in results:\n",
    "    print(result)"
   ]
  },
  {
   "cell_type": "code",
   "execution_count": 7,
   "metadata": {},
   "outputs": [
    {
     "data": {
      "text/plain": [
       "<sqlite3.Cursor at 0x7f655a66bf80>"
      ]
     },
     "execution_count": 7,
     "metadata": {},
     "output_type": "execute_result"
    }
   ],
   "source": [
    "# Creamos otra tabla\n",
    "cursor.execute(\"\"\"CREATE TABLE 'libro' (\n",
    "                    'id' INTEGER NOT NULL PRIMARY KEY AUTOINCREMENT,\n",
    "                    'nombre' TEXT NOT NULL,\n",
    "                    'descripcion' TEXT NOT NULL DEFAULT \" \",\n",
    "                    'autor' TEXT NOT NULL,\n",
    "                    FOREIGN KEY(autor) REFERENCES escritor(id));\"\"\")"
   ]
  },
  {
   "cell_type": "code",
   "execution_count": null,
   "metadata": {},
   "outputs": [],
   "source": []
  }
 ],
 "metadata": {
  "kernelspec": {
   "display_name": "Python 3",
   "language": "python",
   "name": "python3"
  },
  "language_info": {
   "codemirror_mode": {
    "name": "ipython",
    "version": 3
   },
   "file_extension": ".py",
   "mimetype": "text/x-python",
   "name": "python",
   "nbconvert_exporter": "python",
   "pygments_lexer": "ipython3",
   "version": "3.6.9"
  }
 },
 "nbformat": 4,
 "nbformat_minor": 2
}
