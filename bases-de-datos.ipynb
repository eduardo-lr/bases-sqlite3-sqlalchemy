{
 "cells": [
  {
   "cell_type": "markdown",
   "metadata": {},
   "source": [
    "# Bases de datos con SQLAlchemy y SQLite"
   ]
  },
  {
   "cell_type": "code",
   "execution_count": 1,
   "metadata": {},
   "outputs": [],
   "source": [
    "import sqlite3\n",
    "from sqlalchemy import create_engine, Table, MetaData, select, or_, and_, func"
   ]
  },
  {
   "cell_type": "markdown",
   "metadata": {},
   "source": [
    "## Join entre tablas de la misma base de datos"
   ]
  },
  {
   "cell_type": "code",
   "execution_count": 2,
   "metadata": {},
   "outputs": [],
   "source": [
    "# Creamos una base de datos y un cursor\n",
    "conn_sqlite = sqlite3.connect('./biblioteca.db')\n",
<<<<<<< HEAD
    "cursor = conn_sqlite_biblioteca.cursor()"
=======
    "cursor = conn_sqlite.cursor()"
>>>>>>> join
   ]
  },
  {
   "cell_type": "code",
   "execution_count": 3,
   "metadata": {},
   "outputs": [
    {
     "data": {
      "text/plain": [
       "<sqlite3.Cursor at 0x7fb5e30c9030>"
      ]
     },
     "execution_count": 3,
     "metadata": {},
     "output_type": "execute_result"
    }
   ],
   "source": [
    "# Creamos una tabla\n",
    "cursor.execute(\"\"\"CREATE TABLE escritor (\n",
    "                    'id' INTEGER NOT NULL PRIMARY KEY AUTOINCREMENT,\n",
    "                    'nombre' TEXT NOT NULL,\n",
    "                    'paterno' TEXT NOT NULL,\n",
<<<<<<< HEAD
    "                    'materno' TEXT DEFAULT \" \",\n",
    "                    'profesion' TEXT DEFAULT \"escritor\");\"\"\")"
=======
    "                    'materno' TEXT DEFAULT \" \");\"\"\")"
>>>>>>> join
   ]
  },
  {
   "cell_type": "code",
   "execution_count": 4,
   "metadata": {},
   "outputs": [
    {
     "name": "stdout",
     "output_type": "stream",
     "text": [
      "['id', 'nombre', 'paterno', 'materno']\n"
     ]
    }
   ],
   "source": [
<<<<<<< HEAD
=======
    "# Reflejamos la tabla\n",
>>>>>>> join
    "engine = create_engine('sqlite:///biblioteca.db')\n",
    "conn_sqlalchemy = engine.connect()\n",
    "metadata = MetaData()\n",
    "escritor = Table('escritor', metadata, autoload=True, autoload_with=engine)\n",
    "print(escritor.columns.keys())"
   ]
  },
  {
   "cell_type": "code",
   "execution_count": 5,
   "metadata": {
    "scrolled": true
   },
   "outputs": [],
   "source": [
    "# Introducimos algunos valores\n",
    "cursor.execute(\"\"\"INSERT INTO escritor (nombre, paterno) \n",
    "                   VALUES \n",
    "                   ('Hermann','Hesse'),\n",
    "                   ('Jostein', 'Gaarder');\"\"\")\n",
    "cursor.execute(\"\"\"INSERT INTO escritor (nombre, paterno, materno)\n",
    "                    VALUES\n",
    "                    ('Jorge', 'Volpi', 'Escalante');\"\"\")\n",
    "conn_sqlite.commit()"
   ]
  },
  {
   "cell_type": "code",
   "execution_count": 6,
   "metadata": {},
   "outputs": [
    {
     "name": "stdout",
     "output_type": "stream",
     "text": [
      "('Hesse',)\n",
      "('Volpi',)\n"
     ]
    }
   ],
   "source": [
    "# Hacemos una consulta: el apellido paterno de aquellos escritores cuyo nombre sea Hermann o cuyo id sea 3\n",
    "query = select([escritor.columns.paterno])\n",
    "query = query.where(\n",
    "                or_(escritor.columns.nombre == 'Hermann', \n",
    "                    escritor.columns.id == 3))\n",
    "results_proxy = conn_sqlalchemy.execute(query)\n",
    "results = results_proxy.fetchall()\n",
    "for result in results:\n",
    "    print(result)"
   ]
  },
  {
   "cell_type": "code",
   "execution_count": 7,
   "metadata": {},
   "outputs": [
    {
     "data": {
      "text/plain": [
       "<sqlite3.Cursor at 0x7fb5e30c9030>"
      ]
     },
     "execution_count": 7,
     "metadata": {},
     "output_type": "execute_result"
    }
   ],
   "source": [
    "# Creamos otra tabla\n",
    "cursor.execute(\"\"\"CREATE TABLE libro (\n",
    "                    'id' INTEGER NOT NULL PRIMARY KEY AUTOINCREMENT,\n",
    "                    'titulo' TEXT NOT NULL,\n",
    "                    'descripcion' TEXT NOT NULL DEFAULT \" \",\n",
    "                    'autor' INTEGER NOT NULL,\n",
    "                    FOREIGN KEY(autor) REFERENCES escritor(id));\"\"\")"
   ]
  },
  {
   "cell_type": "code",
   "execution_count": 8,
   "metadata": {},
   "outputs": [
    {
     "name": "stdout",
     "output_type": "stream",
     "text": [
      "['id', 'titulo', 'descripcion', 'autor']\n"
     ]
    }
   ],
   "source": [
    "# Reflejamos la tabla\n",
    "libro = Table('libro', metadata, autoload=True, autoload_with=engine)\n",
    "print(libro.columns.keys())"
   ]
  },
  {
   "cell_type": "code",
   "execution_count": 9,
   "metadata": {},
   "outputs": [],
   "source": [
    "# Introducimos algunos valores y cerramos la conexión de sqlite3\n",
    "cursor.execute(\"\"\"INSERT INTO libro (titulo, autor) \n",
    "                   VALUES \n",
    "                   ('Demian',1),\n",
    "                   ('Siddhartha', 1),\n",
    "                   ('El lobo estepario',1);\"\"\")\n",
    "cursor.execute(\"\"\"INSERT INTO libro (titulo, autor, descripcion)\n",
    "                    VALUES\n",
    "                    ('El Mundo de Sofia', 2, 'Novela sobre la historia de la filosofía');\"\"\")\n",
    "conn_sqlite.commit()\n",
    "cursor.close()"
   ]
  },
  {
   "cell_type": "code",
   "execution_count": 10,
   "metadata": {},
   "outputs": [
    {
     "name": "stdout",
     "output_type": "stream",
     "text": [
      "(' ',)\n",
      "('Novela sobre la historia de la filosofía',)\n"
     ]
    }
   ],
   "source": [
    "# Hacemos otra consulta: la descripción de los libros cuyo titulo empiece con E\n",
    "query = select([libro.columns.descripcion])\n",
    "query = query.where(libro.columns.titulo.like('E%'))\n",
    "results_proxy = conn_sqlalchemy.execute(query)\n",
    "results = results_proxy.fetchall()\n",
    "for result in results:\n",
    "    print(result)"
   ]
  },
  {
   "cell_type": "code",
   "execution_count": 11,
   "metadata": {},
   "outputs": [
    {
     "name": "stdout",
     "output_type": "stream",
     "text": [
      "(1, 'Demian', 'Hermann')\n",
      "(2, 'Siddhartha', 'Hermann')\n",
      "(3, 'El lobo estepario', 'Hermann')\n",
      "(4, 'El Mundo de Sofia', 'Jostein')\n"
     ]
    }
   ],
   "source": [
    "# Hacemos un inner join entre las tablas y nos quedamos con id del libro, titulo y nombre del autor\n",
    "query = select([libro.columns.id, libro.columns.titulo, escritor.columns.nombre])\n",
    "query = query.select_from(escritor.join(libro, escritor.columns.id == libro.columns.autor))\n",
    "results_proxy = conn_sqlalchemy.execute(query)\n",
    "results = results_proxy.fetchall()\n",
    "for result in results:\n",
    "    print(result)"
   ]
  },
  {
   "cell_type": "code",
   "execution_count": 12,
   "metadata": {},
   "outputs": [
    {
     "name": "stdout",
     "output_type": "stream",
     "text": [
      "('Hermann', 3)\n",
      "('Jostein', 1)\n"
     ]
    }
   ],
   "source": [
    "# ¿Cuantos libros tiene registrado cada autor?\n",
    "query = select([escritor.columns.nombre, func.sum(1)])\n",
    "query = query.select_from(escritor.join(libro, escritor.columns.id == libro.columns.autor))\n",
    "query = query.group_by(escritor.columns.nombre)\n",
    "results_proxy = conn_sqlalchemy.execute(query)\n",
    "results = results_proxy.fetchall()\n",
    "for result in results:\n",
    "    print(result)"
   ]
  },
  {
   "cell_type": "code",
   "execution_count": 13,
   "metadata": {},
   "outputs": [],
   "source": [
    "# Cerramos la conexión de sqlalchemy\n",
    "conn_sqlalchemy.close()"
   ]
  },
  {
   "cell_type": "markdown",
   "metadata": {},
   "source": [
    "## Join entre dos tablas de distintas bases"
   ]
  },
  {
   "cell_type": "code",
   "execution_count": 14,
   "metadata": {},
   "outputs": [],
   "source": [
    "# Creamos otra base de datos\n",
<<<<<<< HEAD
    "conn_sqlite= sqlite3.connect('./ciudad.db')\n",
    "cursor = conn_sqlite_ciudad.cursor()"
=======
    "conn_sqlite = sqlite3.connect('./ciudad.db')\n",
    "cursor = conn_sqlite.cursor()"
>>>>>>> join
   ]
  },
  {
   "cell_type": "code",
   "execution_count": 15,
   "metadata": {},
   "outputs": [
    {
     "data": {
      "text/plain": [
       "<sqlite3.Cursor at 0x7fb5e3092ce0>"
      ]
     },
     "execution_count": 15,
     "metadata": {},
     "output_type": "execute_result"
    }
   ],
   "source": [
    "# Creamos una tabla\n",
    "cursor.execute(\"\"\"CREATE TABLE ciudadano (\n",
    "                    'id' INTEGER NOT NULL PRIMARY KEY AUTOINCREMENT,\n",
    "                    'nombre' TEXT NOT NULL,\n",
    "                    'paterno' TEXT NOT NULL,\n",
    "                    'materno' TEXT DEFAULT \" \",\n",
<<<<<<< HEAD
    "                    'profesion' TEXT DEFAULT \" \");\"\"\")\n",
    "conn_sqlite.commit()"
=======
    "                    'profesion' TEXT DEFAULT \" \",\n",
    "                    'domicilio' TEXT DEFAULT \" \");\"\"\")"
>>>>>>> join
   ]
  },
  {
   "cell_type": "code",
   "execution_count": 16,
   "metadata": {},
   "outputs": [
    {
     "name": "stdout",
     "output_type": "stream",
     "text": [
      "['id', 'nombre', 'paterno', 'materno', 'profesion', 'domicilio']\n"
     ]
    }
   ],
   "source": [
    "# Reflejamos la tabla\n",
    "engine = create_engine('sqlite:///ciudad.db')\n",
    "conn_sqlalchemy = engine.connect()\n",
    "metadata = MetaData()\n",
    "ciudadano = Table('ciudadano', metadata, autoload=True, autoload_with=engine)\n",
    "print(ciudadano.columns.keys())"
   ]
  },
  {
   "cell_type": "code",
   "execution_count": 17,
   "metadata": {},
   "outputs": [],
   "source": [
    "# Introducimos algunos valores y cerramos la conexión\n",
    "cursor.execute(\"\"\"INSERT INTO ciudadano (nombre, paterno, profesion, domicilio) \n",
    "                   VALUES \n",
    "                   ('Hermann', 'Hesse', 'escritor', 'Suiza'),\n",
    "                   ('Miguel', 'Alcubierre', 'físico', 'México');\"\"\")\n",
    "cursor.execute(\"\"\"INSERT INTO ciudadano (nombre, paterno, materno, domicilio)\n",
    "                    VALUES\n",
    "                    ('Juan', 'Hernández', 'Pérez', 'Colombia');\"\"\")\n",
    "conn_sqlite.commit()\n",
    "cursor.close()"
   ]
  },
  {
   "cell_type": "code",
   "execution_count": 18,
   "metadata": {},
   "outputs": [
    {
     "name": "stdout",
     "output_type": "stream",
     "text": [
      "('Colombia',)\n"
     ]
    }
   ],
   "source": [
    "# Hacemos una consulta: el domicilio de las personas sin profesion registrada\n",
    "query = select([ciudadano.columns.domicilio])\n",
    "query = query.where(ciudadano.columns.profesion == \" \")\n",
    "results_proxy = conn_sqlalchemy.execute(query)\n",
    "results = results_proxy.fetchall()\n",
    "for result in results:\n",
    "    print(result)"
   ]
  },
  {
   "cell_type": "code",
   "execution_count": 19,
   "metadata": {},
   "outputs": [],
   "source": [
    "# Cerramos la conexión de sqlalchemy\n",
    "conn_sqlalchemy.close()"
   ]
  },
  {
   "cell_type": "code",
   "execution_count": 20,
   "metadata": {},
   "outputs": [
    {
     "data": {
      "text/plain": [
       "<sqlalchemy.engine.cursor.LegacyCursorResult at 0x7fb5e2fee9e8>"
      ]
     },
     "execution_count": 20,
     "metadata": {},
     "output_type": "execute_result"
    }
   ],
   "source": [
    "# Cargamos ahora las dos bases de datos\n",
    "engine = create_engine('sqlite:///')\n",
    "conn_sqlalchemy = engine.connect()\n",
    "engine.execute(\"ATTACH DATABASE 'biblioteca.db' as biblioteca;\")\n",
    "engine.execute(\"ATTACH DATABASE 'ciudad.db' as ciudad;\")"
   ]
  },
  {
   "cell_type": "code",
   "execution_count": 21,
   "metadata": {},
   "outputs": [],
   "source": [
    "# Cargamos dos tablas de distintas bases\n",
    "metadata = MetaData()\n",
    "escritor = Table('escritor', metadata, autoload=True, autoload_with=engine, schema='biblioteca')\n",
    "ciudadano = Table('ciudadano', metadata, autoload=True, autoload_with=engine, schema='ciudad')"
   ]
  },
  {
   "cell_type": "code",
   "execution_count": 22,
   "metadata": {},
   "outputs": [
    {
     "name": "stdout",
     "output_type": "stream",
     "text": [
      "('Hermann', 'Hesse', 'Suiza')\n"
     ]
    }
   ],
   "source": [
    "# Hacemos un join y una consulta: el domicilio de los escritores\n",
    "query = select([escritor.columns.nombre, escritor.columns.paterno, ciudadano.columns.domicilio])\n",
    "query = query.select_from(escritor.join(ciudadano, escritor.columns.nombre == ciudadano.columns.nombre))\n",
    "results_proxy = conn_sqlalchemy.execute(query)\n",
    "results = results_proxy.fetchall()\n",
    "for result in results:\n",
    "    print(result)"
   ]
  },
  {
   "cell_type": "code",
   "execution_count": 23,
   "metadata": {},
   "outputs": [],
   "source": [
    "# Cerramos la conexión de sqlalchemy\n",
    "conn_sqlalchemy.close()"
   ]
  }
 ],
 "metadata": {
  "kernelspec": {
   "display_name": "Python 3",
   "language": "python",
   "name": "python3"
  },
  "language_info": {
   "codemirror_mode": {
    "name": "ipython",
    "version": 3
   },
   "file_extension": ".py",
   "mimetype": "text/x-python",
   "name": "python",
   "nbconvert_exporter": "python",
   "pygments_lexer": "ipython3",
   "version": "3.6.9"
  }
 },
 "nbformat": 4,
 "nbformat_minor": 2
}
